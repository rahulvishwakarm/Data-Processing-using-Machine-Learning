{
 "cells": [
  {
   "cell_type": "code",
   "execution_count": 16,
   "metadata": {},
   "outputs": [
    {
     "data": {
      "text/html": [
       "<div>\n",
       "<style scoped>\n",
       "    .dataframe tbody tr th:only-of-type {\n",
       "        vertical-align: middle;\n",
       "    }\n",
       "\n",
       "    .dataframe tbody tr th {\n",
       "        vertical-align: top;\n",
       "    }\n",
       "\n",
       "    .dataframe thead th {\n",
       "        text-align: right;\n",
       "    }\n",
       "</style>\n",
       "<table border=\"1\" class=\"dataframe\">\n",
       "  <thead>\n",
       "    <tr style=\"text-align: right;\">\n",
       "      <th></th>\n",
       "      <th>CityDesc</th>\n",
       "      <th>StateDesc</th>\n",
       "      <th>PINCode</th>\n",
       "      <th>Country</th>\n",
       "      <th>Contact Region</th>\n",
       "      <th>STDAccessNo</th>\n",
       "      <th>Tel1</th>\n",
       "      <th>Tel1Format</th>\n",
       "    </tr>\n",
       "  </thead>\n",
       "  <tbody>\n",
       "    <tr>\n",
       "      <th>0</th>\n",
       "      <td>NaN</td>\n",
       "      <td>NaN</td>\n",
       "      <td>NaN</td>\n",
       "      <td>NaN</td>\n",
       "      <td>Not Available</td>\n",
       "      <td>NaN</td>\n",
       "      <td>- +44-1706-811203</td>\n",
       "      <td>NaN</td>\n",
       "    </tr>\n",
       "    <tr>\n",
       "      <th>1</th>\n",
       "      <td>NaN</td>\n",
       "      <td>NaN</td>\n",
       "      <td>NaN</td>\n",
       "      <td>India</td>\n",
       "      <td>India</td>\n",
       "      <td>NaN</td>\n",
       "      <td>- 011-24305273</td>\n",
       "      <td>NaN</td>\n",
       "    </tr>\n",
       "    <tr>\n",
       "      <th>2</th>\n",
       "      <td>NaN</td>\n",
       "      <td>NaN</td>\n",
       "      <td>NaN</td>\n",
       "      <td>India</td>\n",
       "      <td>India</td>\n",
       "      <td>NaN</td>\n",
       "      <td>- 011-66222266 /</td>\n",
       "      <td>NaN</td>\n",
       "    </tr>\n",
       "    <tr>\n",
       "      <th>3</th>\n",
       "      <td>NaN</td>\n",
       "      <td>NaN</td>\n",
       "      <td>NaN</td>\n",
       "      <td>NaN</td>\n",
       "      <td>Not Available</td>\n",
       "      <td>NaN</td>\n",
       "      <td>-(302) 885-4289</td>\n",
       "      <td>NaN</td>\n",
       "    </tr>\n",
       "    <tr>\n",
       "      <th>4</th>\n",
       "      <td>NaN</td>\n",
       "      <td>NaN</td>\n",
       "      <td>NaN</td>\n",
       "      <td>NaN</td>\n",
       "      <td>Not Available</td>\n",
       "      <td>NaN</td>\n",
       "      <td>-(302) 885-5637</td>\n",
       "      <td>NaN</td>\n",
       "    </tr>\n",
       "    <tr>\n",
       "      <th>...</th>\n",
       "      <td>...</td>\n",
       "      <td>...</td>\n",
       "      <td>...</td>\n",
       "      <td>...</td>\n",
       "      <td>...</td>\n",
       "      <td>...</td>\n",
       "      <td>...</td>\n",
       "      <td>...</td>\n",
       "    </tr>\n",
       "    <tr>\n",
       "      <th>34217</th>\n",
       "      <td>NaN</td>\n",
       "      <td>NaN</td>\n",
       "      <td>NaN</td>\n",
       "      <td>NaN</td>\n",
       "      <td>Not Available</td>\n",
       "      <td>NaN</td>\n",
       "      <td>M: +386 70 999 899</td>\n",
       "      <td>NaN</td>\n",
       "    </tr>\n",
       "    <tr>\n",
       "      <th>34218</th>\n",
       "      <td>NaN</td>\n",
       "      <td>NaN</td>\n",
       "      <td>NaN</td>\n",
       "      <td>NaN</td>\n",
       "      <td>Not Available</td>\n",
       "      <td>NaN</td>\n",
       "      <td>Mobile: 96170718361</td>\n",
       "      <td>NaN</td>\n",
       "    </tr>\n",
       "    <tr>\n",
       "      <th>34219</th>\n",
       "      <td>NaN</td>\n",
       "      <td>NaN</td>\n",
       "      <td>NaN</td>\n",
       "      <td>France</td>\n",
       "      <td>Europe</td>\n",
       "      <td>NaN</td>\n",
       "      <td>Tel : +33966663038</td>\n",
       "      <td>NaN</td>\n",
       "    </tr>\n",
       "    <tr>\n",
       "      <th>34220</th>\n",
       "      <td>NaN</td>\n",
       "      <td>NaN</td>\n",
       "      <td>NaN</td>\n",
       "      <td>France</td>\n",
       "      <td>Europe</td>\n",
       "      <td>NaN</td>\n",
       "      <td>Tel : +33966664016</td>\n",
       "      <td>NaN</td>\n",
       "    </tr>\n",
       "    <tr>\n",
       "      <th>34221</th>\n",
       "      <td>NaN</td>\n",
       "      <td>NaN</td>\n",
       "      <td>NaN</td>\n",
       "      <td>mauritius</td>\n",
       "      <td>MECAA</td>\n",
       "      <td>NaN</td>\n",
       "      <td>Tel:(230) 203 7254</td>\n",
       "      <td>NaN</td>\n",
       "    </tr>\n",
       "  </tbody>\n",
       "</table>\n",
       "<p>34222 rows × 8 columns</p>\n",
       "</div>"
      ],
      "text/plain": [
       "      CityDesc StateDesc PINCode    Country Contact Region STDAccessNo  \\\n",
       "0          NaN       NaN     NaN        NaN  Not Available         NaN   \n",
       "1          NaN       NaN     NaN      India          India         NaN   \n",
       "2          NaN       NaN     NaN      India          India         NaN   \n",
       "3          NaN       NaN     NaN        NaN  Not Available         NaN   \n",
       "4          NaN       NaN     NaN        NaN  Not Available         NaN   \n",
       "...        ...       ...     ...        ...            ...         ...   \n",
       "34217      NaN       NaN     NaN        NaN  Not Available         NaN   \n",
       "34218      NaN       NaN     NaN        NaN  Not Available         NaN   \n",
       "34219      NaN       NaN     NaN     France         Europe         NaN   \n",
       "34220      NaN       NaN     NaN     France         Europe         NaN   \n",
       "34221      NaN       NaN     NaN  mauritius          MECAA         NaN   \n",
       "\n",
       "                      Tel1  Tel1Format  \n",
       "0        - +44-1706-811203         NaN  \n",
       "1           - 011-24305273         NaN  \n",
       "2         - 011-66222266 /         NaN  \n",
       "3          -(302) 885-4289         NaN  \n",
       "4          -(302) 885-5637         NaN  \n",
       "...                    ...         ...  \n",
       "34217   M: +386 70 999 899         NaN  \n",
       "34218  Mobile: 96170718361         NaN  \n",
       "34219   Tel : +33966663038         NaN  \n",
       "34220   Tel : +33966664016         NaN  \n",
       "34221   Tel:(230) 203 7254         NaN  \n",
       "\n",
       "[34222 rows x 8 columns]"
      ]
     },
     "execution_count": 16,
     "metadata": {},
     "output_type": "execute_result"
    }
   ],
   "source": [
    "import numpy as np\n",
    "import pandas as pd\n",
    "filename=\"Phone_Formatted.xlsx\"\n",
    "data=pd.read_excel(filename)\n",
    "data"
   ]
  },
  {
   "cell_type": "code",
   "execution_count": 17,
   "metadata": {},
   "outputs": [
    {
     "data": {
      "text/html": [
       "<div>\n",
       "<style scoped>\n",
       "    .dataframe tbody tr th:only-of-type {\n",
       "        vertical-align: middle;\n",
       "    }\n",
       "\n",
       "    .dataframe tbody tr th {\n",
       "        vertical-align: top;\n",
       "    }\n",
       "\n",
       "    .dataframe thead th {\n",
       "        text-align: right;\n",
       "    }\n",
       "</style>\n",
       "<table border=\"1\" class=\"dataframe\">\n",
       "  <thead>\n",
       "    <tr style=\"text-align: right;\">\n",
       "      <th></th>\n",
       "      <th>CityDesc</th>\n",
       "      <th>StateDesc</th>\n",
       "      <th>PINCode</th>\n",
       "      <th>Country</th>\n",
       "      <th>Contact Region</th>\n",
       "      <th>STDAccessNo</th>\n",
       "      <th>Tel1</th>\n",
       "      <th>Tel1Format</th>\n",
       "    </tr>\n",
       "  </thead>\n",
       "  <tbody>\n",
       "    <tr>\n",
       "      <th>0</th>\n",
       "      <td>NaN</td>\n",
       "      <td>NaN</td>\n",
       "      <td>NaN</td>\n",
       "      <td>NaN</td>\n",
       "      <td>Not Available</td>\n",
       "      <td>NaN</td>\n",
       "      <td>- +44-1706-811203</td>\n",
       "      <td>NaN</td>\n",
       "    </tr>\n",
       "    <tr>\n",
       "      <th>1</th>\n",
       "      <td>NaN</td>\n",
       "      <td>NaN</td>\n",
       "      <td>NaN</td>\n",
       "      <td>India</td>\n",
       "      <td>India</td>\n",
       "      <td>NaN</td>\n",
       "      <td>- 011-24305273</td>\n",
       "      <td>NaN</td>\n",
       "    </tr>\n",
       "    <tr>\n",
       "      <th>2</th>\n",
       "      <td>NaN</td>\n",
       "      <td>NaN</td>\n",
       "      <td>NaN</td>\n",
       "      <td>India</td>\n",
       "      <td>India</td>\n",
       "      <td>NaN</td>\n",
       "      <td>- 011-66222266 /</td>\n",
       "      <td>NaN</td>\n",
       "    </tr>\n",
       "    <tr>\n",
       "      <th>3</th>\n",
       "      <td>NaN</td>\n",
       "      <td>NaN</td>\n",
       "      <td>NaN</td>\n",
       "      <td>NaN</td>\n",
       "      <td>Not Available</td>\n",
       "      <td>NaN</td>\n",
       "      <td>-(302) 885-4289</td>\n",
       "      <td>NaN</td>\n",
       "    </tr>\n",
       "    <tr>\n",
       "      <th>4</th>\n",
       "      <td>NaN</td>\n",
       "      <td>NaN</td>\n",
       "      <td>NaN</td>\n",
       "      <td>NaN</td>\n",
       "      <td>Not Available</td>\n",
       "      <td>NaN</td>\n",
       "      <td>-(302) 885-5637</td>\n",
       "      <td>NaN</td>\n",
       "    </tr>\n",
       "  </tbody>\n",
       "</table>\n",
       "</div>"
      ],
      "text/plain": [
       "  CityDesc StateDesc PINCode Country Contact Region STDAccessNo  \\\n",
       "0      NaN       NaN     NaN     NaN  Not Available         NaN   \n",
       "1      NaN       NaN     NaN   India          India         NaN   \n",
       "2      NaN       NaN     NaN   India          India         NaN   \n",
       "3      NaN       NaN     NaN     NaN  Not Available         NaN   \n",
       "4      NaN       NaN     NaN     NaN  Not Available         NaN   \n",
       "\n",
       "                 Tel1  Tel1Format  \n",
       "0   - +44-1706-811203         NaN  \n",
       "1      - 011-24305273         NaN  \n",
       "2    - 011-66222266 /         NaN  \n",
       "3     -(302) 885-4289         NaN  \n",
       "4     -(302) 885-5637         NaN  "
      ]
     },
     "execution_count": 17,
     "metadata": {},
     "output_type": "execute_result"
    }
   ],
   "source": [
    "data.head()"
   ]
  },
  {
   "cell_type": "code",
   "execution_count": 18,
   "metadata": {},
   "outputs": [
    {
     "data": {
      "text/plain": [
       "0          - +44-1706-811203\n",
       "1             - 011-24305273\n",
       "2           - 011-66222266 /\n",
       "3            -(302) 885-4289\n",
       "4            -(302) 885-5637\n",
       "                ...         \n",
       "34217     M: +386 70 999 899\n",
       "34218    Mobile: 96170718361\n",
       "34219     Tel : +33966663038\n",
       "34220     Tel : +33966664016\n",
       "34221     Tel:(230) 203 7254\n",
       "Name: Tel1, Length: 34222, dtype: object"
      ]
     },
     "execution_count": 18,
     "metadata": {},
     "output_type": "execute_result"
    }
   ],
   "source": [
    "data[\"Tel1\"]"
   ]
  },
  {
   "cell_type": "code",
   "execution_count": 19,
   "metadata": {},
   "outputs": [
    {
     "name": "stdout",
     "output_type": "stream",
     "text": [
      "[' - +44-1706-811203', ' - 011-24305273', ' - 011-66222266 /', ' -(302) 885-4289', ' -(302) 885-5637']\n"
     ]
    },
    {
     "data": {
      "text/plain": [
       "[' - +44-1706-811203',\n",
       " ' - 011-24305273',\n",
       " ' - 011-66222266 ',\n",
       " ' -(302) 885-4289',\n",
       " ' -(302) 885-5637']"
      ]
     },
     "execution_count": 19,
     "metadata": {},
     "output_type": "execute_result"
    }
   ],
   "source": [
    "import numpy as np\n",
    "import pandas as pd\n",
    "filename=\"Phone_Formatted.xlsx\"\n",
    "data=pd.read_excel(filename)\n",
    "dataset=[]\n",
    "pro3=[] #Removed White Space here\n",
    "for i in data[\"Tel1\"].head():\n",
    "    dataset.append(i)\n",
    "print(dataset)\n",
    "for pro1 in range(len(dataset)):\n",
    "    pro2=dataset[pro1].replace(\" \" and \"(\" and \"/\",\"\")\n",
    "    pro3.append(pro2)\n",
    "pro3"
   ]
  },
  {
   "cell_type": "code",
   "execution_count": 20,
   "metadata": {},
   "outputs": [
    {
     "name": "stdout",
     "output_type": "stream",
     "text": [
      "['-+44-1706-811203', '-011-24305273', '-011-66222266', '-(302)885-4289', '-(302)885-5637']\n",
      "++44-1706-811203\n",
      "+011-24305273\n",
      "+011-66222266\n",
      "+(302)885-4289\n",
      "+(302)885-5637\n"
     ]
    }
   ],
   "source": [
    "import numpy as np\n",
    "import pandas as pl\n",
    "filename=\"Phone_Formatted.xlsx\"\n",
    "data=pl.read_excel(filename)\n",
    "dataset=[]\n",
    "pro3=[] #Removed White Space here\n",
    "pro5=[] #Removed \"/\"\n",
    "for i in data[\"Tel1\"].head(5):\n",
    "    dataset.append(i)\n",
    "for pro1 in range(len(dataset)):\n",
    "    pro2=dataset[pro1].replace(\" \",\"\")\n",
    "    pro3.append(pro2)\n",
    "    pro4=pro3[pro1].replace(\"/\",\"\")\n",
    "    pro5.append(pro4)\n",
    "print(pro5)\n",
    "for s in pro5:\n",
    "    a=s[1:]\n",
    "    a=\"+\"+a\n",
    "    print(a)"
   ]
  },
  {
   "cell_type": "code",
   "execution_count": 21,
   "metadata": {},
   "outputs": [
    {
     "name": "stdout",
     "output_type": "stream",
     "text": [
      "['-+44-1706-811203', '-011-24305273', '-011-66222266', '-(302-885-4289', '-(302-885-5637', '-(973-683-9000', '-(D-022-67001398', '-+52555223.3224', '+911244629560', '+01-4083216300']\n",
      "++44-1706-811203\n",
      "+011-24305273\n",
      "+011-66222266\n",
      "+(302-885-4289\n",
      "+(302-885-5637\n",
      "+(973-683-9000\n",
      "+(D-022-67001398\n",
      "++52555223.3224\n",
      "+911244629560\n",
      "+01-4083216300\n"
     ]
    }
   ],
   "source": [
    "import numpy as np\n",
    "import pandas as pl\n",
    "filename=\"Phone_Formatted.xlsx\"\n",
    "data=pl.read_excel(filename)\n",
    "dataset=[]\n",
    "pro3=[] #Removed White Space here\n",
    "pro5=[] #Replaced \"/\"\n",
    "pro7=[] #Replaced \")\"\n",
    "for i in data[\"Tel1\"].head(10):\n",
    "    dataset.append(i)\n",
    "for pro1 in range(len(dataset)):\n",
    "    pro2=dataset[pro1].replace(\" \",\"\")\n",
    "    pro3.append(pro2)\n",
    "    pro4=pro3[pro1].replace(\"/\",\"\")\n",
    "    pro5.append(pro4)\n",
    "    pro6=pro5[pro1].replace(\")\",\"-\")\n",
    "    pro7.append(pro6)\n",
    "print(pro7)\n",
    "for s in pro7:\n",
    "    a=s[1:]\n",
    "    a=\"+\"+a\n",
    "    print(a)"
   ]
  },
  {
   "cell_type": "code",
   "execution_count": 22,
   "metadata": {},
   "outputs": [
    {
     "name": "stdout",
     "output_type": "stream",
     "text": [
      "706-811203\n",
      "4305273\n",
      "6222266\n",
      "885-4289\n",
      "885-5637\n",
      "683-9000\n",
      "2-67001398\n",
      "5223.3224\n",
      "4629560\n",
      "83216300\n"
     ]
    }
   ],
   "source": [
    "for sp in pro7:\n",
    "    b=sp[6:]\n",
    "    s=b.lstrip()\n",
    "    s=b.rstrip()\n",
    "    print(s)"
   ]
  },
  {
   "cell_type": "code",
   "execution_count": 23,
   "metadata": {},
   "outputs": [
    {
     "name": "stdout",
     "output_type": "stream",
     "text": [
      "['706-811203', '4305273', '6222266', '885-4289', '885-5637', '683-9000', '2-67001398', '5223.3224', '4629560', '83216300']\n"
     ]
    }
   ],
   "source": [
    "news=[]\n",
    "for sp in pro7:\n",
    "    b=sp[6:]\n",
    "    s=b.lstrip()\n",
    "    s=b.rstrip()\n",
    "    news.append(s)\n",
    "print(news)"
   ]
  },
  {
   "cell_type": "code",
   "execution_count": 24,
   "metadata": {},
   "outputs": [
    {
     "data": {
      "text/plain": [
       "['706-811203',\n",
       " '4305273',\n",
       " '6222266',\n",
       " '885-4289',\n",
       " '885-5637',\n",
       " '683-9000',\n",
       " '2-67001398',\n",
       " '5223.3224',\n",
       " '4629560',\n",
       " '83216300']"
      ]
     },
     "execution_count": 24,
     "metadata": {},
     "output_type": "execute_result"
    }
   ],
   "source": [
    "news"
   ]
  },
  {
   "cell_type": "code",
   "execution_count": 25,
   "metadata": {},
   "outputs": [
    {
     "data": {
      "text/plain": [
       "['706811203',\n",
       " '4305273',\n",
       " '6222266',\n",
       " '8854289',\n",
       " '8855637',\n",
       " '6839000',\n",
       " '267001398',\n",
       " '52233224',\n",
       " '4629560',\n",
       " '83216300']"
      ]
     },
     "execution_count": 25,
     "metadata": {},
     "output_type": "execute_result"
    }
   ],
   "source": [
    "new_strings2 = []\n",
    "for string in news:\n",
    "    new_string = string.replace(\"-\", \"\")\n",
    "    new_strings=new_string.replace(\".\",\"\")\n",
    "    new_strings1=new_strings.replace(\"(\",\"\")\n",
    "    new_strings2.append(new_strings1)\n",
    "    \n",
    "new_strings2"
   ]
  },
  {
   "cell_type": "code",
   "execution_count": 26,
   "metadata": {},
   "outputs": [
    {
     "data": {
      "text/plain": [
       "['-+44-1706-811203',\n",
       " '-011-24305273',\n",
       " '-011-66222266',\n",
       " '-(302-885-4289',\n",
       " '-(302-885-5637',\n",
       " '-(973-683-9000',\n",
       " '-(D-022-67001398',\n",
       " '-+52555223.3224',\n",
       " '+911244629560',\n",
       " '+01-4083216300']"
      ]
     },
     "execution_count": 26,
     "metadata": {},
     "output_type": "execute_result"
    }
   ],
   "source": [
    "pro7"
   ]
  },
  {
   "cell_type": "code",
   "execution_count": 27,
   "metadata": {},
   "outputs": [
    {
     "data": {
      "text/plain": [
       "['706811203',\n",
       " '4305273',\n",
       " '6222266',\n",
       " '8854289',\n",
       " '8855637',\n",
       " '6839000',\n",
       " '267001398',\n",
       " '52233224',\n",
       " '4629560',\n",
       " '83216300']"
      ]
     },
     "execution_count": 27,
     "metadata": {},
     "output_type": "execute_result"
    }
   ],
   "source": [
    "pro8=new_strings2\n",
    "pro8"
   ]
  },
  {
   "cell_type": "code",
   "execution_count": 28,
   "metadata": {},
   "outputs": [],
   "source": [
    "pro9=[]\n",
    "for n in pro7:\n",
    "    m=n[:6]\n",
    "    pro9.append(m)"
   ]
  },
  {
   "cell_type": "code",
   "execution_count": 29,
   "metadata": {},
   "outputs": [
    {
     "data": {
      "text/plain": [
       "['706811203',\n",
       " '4305273',\n",
       " '6222266',\n",
       " '8854289',\n",
       " '8855637',\n",
       " '6839000',\n",
       " '267001398',\n",
       " '52233224',\n",
       " '4629560',\n",
       " '83216300']"
      ]
     },
     "execution_count": 29,
     "metadata": {},
     "output_type": "execute_result"
    }
   ],
   "source": [
    "pro8"
   ]
  },
  {
   "cell_type": "code",
   "execution_count": 30,
   "metadata": {},
   "outputs": [
    {
     "data": {
      "text/plain": [
       "['-+44-1',\n",
       " '-011-2',\n",
       " '-011-6',\n",
       " '-(302-',\n",
       " '-(302-',\n",
       " '-(973-',\n",
       " '-(D-02',\n",
       " '-+5255',\n",
       " '+91124',\n",
       " '+01-40']"
      ]
     },
     "execution_count": 30,
     "metadata": {},
     "output_type": "execute_result"
    }
   ],
   "source": [
    "pro9"
   ]
  },
  {
   "cell_type": "code",
   "execution_count": 33,
   "metadata": {},
   "outputs": [
    {
     "data": {
      "text/plain": [
       "['706811203',\n",
       " '4305273',\n",
       " '6222266',\n",
       " '8854289',\n",
       " '8855637',\n",
       " '6839000',\n",
       " '267001398',\n",
       " '52233224',\n",
       " '4629560',\n",
       " '83216300']"
      ]
     },
     "execution_count": 33,
     "metadata": {},
     "output_type": "execute_result"
    }
   ],
   "source": [
    "pro8\n"
   ]
  },
  {
   "cell_type": "code",
   "execution_count": 34,
   "metadata": {},
   "outputs": [
    {
     "data": {
      "text/plain": [
       "['-+44-1',\n",
       " '-011-2',\n",
       " '-011-6',\n",
       " '-(302-',\n",
       " '-(302-',\n",
       " '-(973-',\n",
       " '-(D-02',\n",
       " '-+5255',\n",
       " '+91124',\n",
       " '+01-40']"
      ]
     },
     "execution_count": 34,
     "metadata": {},
     "output_type": "execute_result"
    }
   ],
   "source": [
    "pro9"
   ]
  },
  {
   "cell_type": "code",
   "execution_count": 37,
   "metadata": {},
   "outputs": [
    {
     "name": "stdout",
     "output_type": "stream",
     "text": [
      "-+44-1 706811203\n",
      "-+44-1 4305273\n",
      "-+44-1 6222266\n",
      "-+44-1 8854289\n",
      "-+44-1 8855637\n",
      "-+44-1 6839000\n",
      "-+44-1 267001398\n",
      "-+44-1 52233224\n",
      "-+44-1 4629560\n",
      "-+44-1 83216300\n",
      "-011-2 706811203\n",
      "-011-2 4305273\n",
      "-011-2 6222266\n",
      "-011-2 8854289\n",
      "-011-2 8855637\n",
      "-011-2 6839000\n",
      "-011-2 267001398\n",
      "-011-2 52233224\n",
      "-011-2 4629560\n",
      "-011-2 83216300\n",
      "-011-6 706811203\n",
      "-011-6 4305273\n",
      "-011-6 6222266\n",
      "-011-6 8854289\n",
      "-011-6 8855637\n",
      "-011-6 6839000\n",
      "-011-6 267001398\n",
      "-011-6 52233224\n",
      "-011-6 4629560\n",
      "-011-6 83216300\n",
      "-(302- 706811203\n",
      "-(302- 4305273\n",
      "-(302- 6222266\n",
      "-(302- 8854289\n",
      "-(302- 8855637\n",
      "-(302- 6839000\n",
      "-(302- 267001398\n",
      "-(302- 52233224\n",
      "-(302- 4629560\n",
      "-(302- 83216300\n",
      "-(302- 706811203\n",
      "-(302- 4305273\n",
      "-(302- 6222266\n",
      "-(302- 8854289\n",
      "-(302- 8855637\n",
      "-(302- 6839000\n",
      "-(302- 267001398\n",
      "-(302- 52233224\n",
      "-(302- 4629560\n",
      "-(302- 83216300\n",
      "-(973- 706811203\n",
      "-(973- 4305273\n",
      "-(973- 6222266\n",
      "-(973- 8854289\n",
      "-(973- 8855637\n",
      "-(973- 6839000\n",
      "-(973- 267001398\n",
      "-(973- 52233224\n",
      "-(973- 4629560\n",
      "-(973- 83216300\n",
      "-(D-02 706811203\n",
      "-(D-02 4305273\n",
      "-(D-02 6222266\n",
      "-(D-02 8854289\n",
      "-(D-02 8855637\n",
      "-(D-02 6839000\n",
      "-(D-02 267001398\n",
      "-(D-02 52233224\n",
      "-(D-02 4629560\n",
      "-(D-02 83216300\n",
      "-+5255 706811203\n",
      "-+5255 4305273\n",
      "-+5255 6222266\n",
      "-+5255 8854289\n",
      "-+5255 8855637\n",
      "-+5255 6839000\n",
      "-+5255 267001398\n",
      "-+5255 52233224\n",
      "-+5255 4629560\n",
      "-+5255 83216300\n",
      "+91124 706811203\n",
      "+91124 4305273\n",
      "+91124 6222266\n",
      "+91124 8854289\n",
      "+91124 8855637\n",
      "+91124 6839000\n",
      "+91124 267001398\n",
      "+91124 52233224\n",
      "+91124 4629560\n",
      "+91124 83216300\n",
      "+01-40 706811203\n",
      "+01-40 4305273\n",
      "+01-40 6222266\n",
      "+01-40 8854289\n",
      "+01-40 8855637\n",
      "+01-40 6839000\n",
      "+01-40 267001398\n",
      "+01-40 52233224\n",
      "+01-40 4629560\n",
      "+01-40 83216300\n"
     ]
    }
   ],
   "source": [
    "pro10=[]\n",
    "for i in pro9:\n",
    "    for j in pro8:\n",
    "        print(i,j)"
   ]
  },
  {
   "cell_type": "code",
   "execution_count": null,
   "metadata": {},
   "outputs": [],
   "source": []
  }
 ],
 "metadata": {
  "kernelspec": {
   "display_name": "Python 3",
   "language": "python",
   "name": "python3"
  },
  "language_info": {
   "codemirror_mode": {
    "name": "ipython",
    "version": 3
   },
   "file_extension": ".py",
   "mimetype": "text/x-python",
   "name": "python",
   "nbconvert_exporter": "python",
   "pygments_lexer": "ipython3",
   "version": "3.8.3"
  }
 },
 "nbformat": 4,
 "nbformat_minor": 4
}
